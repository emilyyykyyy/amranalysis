{
 "cells": [
  {
   "cell_type": "markdown",
   "id": "08372de1",
   "metadata": {},
   "source": [
    "# **Analyzing and Predicting AMR Staph A. Resistances with Bulk Data**\n",
    "\n",
    "### **Objectives for this notebook**\n",
    "- Collect custom test dataset, organize, and run all genes through resistance database\n",
    "- Visualize and analyze data in genes\n",
    "- Develop supervised and deep learning models to predict resistance genes"
   ]
  },
  {
   "cell_type": "markdown",
   "id": "ad6ad55d",
   "metadata": {},
   "source": [
    "## **Data Collection Instructions**\n",
    "---\n",
    "\n",
    "This section details how to collect data and use an external resistance database to download additional resistance data. Most of this should be done in PC terminal rather than an IDE terminal (i.e. VS Code bash terminal). I have also linked my own data to this repository/Sharepoint for testing purposes. "
   ]
  },
  {
   "cell_type": "markdown",
   "id": "bcfff3bb",
   "metadata": {},
   "source": [
    "#### **Downloading data from NCBI**\n",
    "1. Go to NCBI and search for [genome datasets](https://www.ncbi.nlm.nih.gov/datasets/genome/). Filter search to annotated (click sandwich menu next to \"Filters\") and search the particular bacteria strand you are looking for. For example, [Staph A.](https://www.ncbi.nlm.nih.gov/datasets/genome/?taxon=1280&annotated_only=true&refseq_annotation=true&genbank_annotation=true)\n",
    "2. Select the amount of data you would like to collect with checkboxes and click download. If you would like to download all, select the checkbox next to \"Assembly\".\n",
    "3. Unzip and save to a data folder (I renamed mine to \"ncbi_staph50_dataset\")."
   ]
  },
  {
   "cell_type": "markdown",
   "id": "a03cf29f",
   "metadata": {},
   "source": [
    "#### **Extracting .fna files**\n",
    "1. Go to terminal by searching \"cmd\" or \"terminal\". In the terminal, access files using the cd command.\n",
    "\n",
    "i.e.: type `cd Downloads/ncbi_staph50_dataset`\n",
    "\n",
    "2. Make a .py file named extract_fna_files.py in this folder with the code linked below. In terminal, type `python extract_fna_files.py`."
   ]
  },
  {
   "cell_type": "code",
   "execution_count": null,
   "id": "c62fcf6d",
   "metadata": {},
   "outputs": [],
   "source": [
    "import os\n",
    "import shutil\n",
    "\n",
    "current_dir = os.path.dirname(os.path.abspath(__file__))\n",
    "source_dir = os.path.join(current_dir, \"ncbi_dataset\", \"data\")\n",
    "output_dir = os.path.join(current_dir, \"all_fastas\")\n",
    "\n",
    "os.makedirs(output_dir, exist_ok=True)\n",
    "\n",
    "for root, dirs, files in os.walk(source_dir):\n",
    "    for file in files:\n",
    "        if file.endswith(\".fna\"):\n",
    "            full_path = os.path.join(root, file)\n",
    "            new_filename = os.path.basename(file)\n",
    "            shutil.copy(full_path, os.path.join(output_dir, new_filename))\n",
    "\n",
    "print(\"All .fna files copied to:\", output_dir)\n"
   ]
  },
  {
   "cell_type": "markdown",
   "id": "2a197ace",
   "metadata": {},
   "source": [
    "#### **Extracting resistance data**\n",
    "*Note: These instructions use AMRFinderPlus to collect data to your environment. There are many [installation methods to work with](https://github.com/ncbi/amr/wiki/Installing-AMRFinder), but these instructions use Docker.*\n",
    "1. If not already, [install Docker to device](https://www.docker.com/get-started/). Follow instructions for setup via the link.\n",
    "2. Navigate to folder with your virtual environment and data.\n",
    "3. Pull the docker image in your terminal/command line with `docker pull ncbi/amr`\n",
    "4. Create file named \"run_amr.bat\" and insert code from code block below. In terminal, enter \"run_amr.bat\".\n",
    "\n",
    "*Resistance data should be in \"results\" folder.*"
   ]
  },
  {
   "cell_type": "code",
   "execution_count": null,
   "id": "d5ef3d95",
   "metadata": {
    "vscode": {
     "languageId": "bat"
    }
   },
   "outputs": [],
   "source": [
    "@echo off\n",
    "setlocal enabledelayedexpansion\n",
    "for %%f in (data\\ncbi_staph50_dataset\\all_fastas\\*.fna) do (\n",
    "    echo Processing file %%f\n",
    "    set \"file=%%f\"\n",
    "    set \"file=!file:\\=/!\"\n",
    "    docker run --rm -v \"C:/Users/emily/Downloads/nuig-research:/app\" ncbi/amr amrfinder -n /app/!file! -o /app/results/%%~nxf_amr.txt --organism Staphylococcus_aureus --plus\n",
    ")\n",
    "echo All files processed!\n"
   ]
  },
  {
   "cell_type": "markdown",
   "id": "ebbfaea5",
   "metadata": {},
   "source": [
    "## **Data Preparation**\n",
    "---\n",
    "\n",
    "This section prepares the data into pandas dataframes for machine learning and visualization use."
   ]
  },
  {
   "cell_type": "code",
   "execution_count": null,
   "id": "db128d7c",
   "metadata": {},
   "outputs": [
    {
     "data": {
      "text/html": [
       "<div>\n",
       "<style scoped>\n",
       "    .dataframe tbody tr th:only-of-type {\n",
       "        vertical-align: middle;\n",
       "    }\n",
       "\n",
       "    .dataframe tbody tr th {\n",
       "        vertical-align: top;\n",
       "    }\n",
       "\n",
       "    .dataframe thead th {\n",
       "        text-align: right;\n",
       "    }\n",
       "</style>\n",
       "<table border=\"1\" class=\"dataframe\">\n",
       "  <thead>\n",
       "    <tr style=\"text-align: right;\">\n",
       "      <th></th>\n",
       "      <th>file</th>\n",
       "      <th>A</th>\n",
       "      <th>T</th>\n",
       "      <th>C</th>\n",
       "      <th>G</th>\n",
       "      <th>total_bases</th>\n",
       "      <th>sequence</th>\n",
       "      <th>A_ratio</th>\n",
       "      <th>T_ratio</th>\n",
       "      <th>C_ratio</th>\n",
       "      <th>G_ratio</th>\n",
       "    </tr>\n",
       "  </thead>\n",
       "  <tbody>\n",
       "    <tr>\n",
       "      <th>0</th>\n",
       "      <td>GCA_000013425.1_ASM1342v1_genomic.fna</td>\n",
       "      <td>938713</td>\n",
       "      <td>955315</td>\n",
       "      <td>465832</td>\n",
       "      <td>461500</td>\n",
       "      <td>2821361</td>\n",
       "      <td>CGATTAAAGATAGAAATACACGATGCGAGCAATCAAATTTCATAAC...</td>\n",
       "      <td>0.332716</td>\n",
       "      <td>0.338601</td>\n",
       "      <td>0.165109</td>\n",
       "      <td>0.163574</td>\n",
       "    </tr>\n",
       "    <tr>\n",
       "      <th>1</th>\n",
       "      <td>GCA_000418345.1_ASM41834v1_genomic.fna</td>\n",
       "      <td>991460</td>\n",
       "      <td>1010093</td>\n",
       "      <td>501529</td>\n",
       "      <td>480374</td>\n",
       "      <td>2983456</td>\n",
       "      <td>GATTAAAGATAGAAATACACGATGCGAGCAATCAAATTTCATAACA...</td>\n",
       "      <td>0.332319</td>\n",
       "      <td>0.338565</td>\n",
       "      <td>0.168103</td>\n",
       "      <td>0.161013</td>\n",
       "    </tr>\n",
       "    <tr>\n",
       "      <th>2</th>\n",
       "      <td>GCA_000769575.1_ASM76957v1_genomic.fna</td>\n",
       "      <td>1010582</td>\n",
       "      <td>1032011</td>\n",
       "      <td>520238</td>\n",
       "      <td>483378</td>\n",
       "      <td>3046210</td>\n",
       "      <td>GATTAAAGATAGAAATACACGATGCGAGCAATCAAATTTCATAACA...</td>\n",
       "      <td>0.331751</td>\n",
       "      <td>0.338785</td>\n",
       "      <td>0.170782</td>\n",
       "      <td>0.158682</td>\n",
       "    </tr>\n",
       "    <tr>\n",
       "      <th>3</th>\n",
       "      <td>GCA_001027105.1_ASM102710v1_genomic.fna</td>\n",
       "      <td>934404</td>\n",
       "      <td>934422</td>\n",
       "      <td>453599</td>\n",
       "      <td>460137</td>\n",
       "      <td>2782562</td>\n",
       "      <td>ACTACTGCTCAATTTTTTTACTTTTATCGATTAAAGATAGAAATAC...</td>\n",
       "      <td>0.335807</td>\n",
       "      <td>0.335814</td>\n",
       "      <td>0.163015</td>\n",
       "      <td>0.165365</td>\n",
       "    </tr>\n",
       "    <tr>\n",
       "      <th>4</th>\n",
       "      <td>GCA_001515665.1_ASM151566v1_genomic.fna</td>\n",
       "      <td>998423</td>\n",
       "      <td>1007733</td>\n",
       "      <td>492038</td>\n",
       "      <td>491833</td>\n",
       "      <td>2990027</td>\n",
       "      <td>ACACGATGCGAGCAATCAAATTTCATAACATCACCATGAGTTTGAT...</td>\n",
       "      <td>0.333918</td>\n",
       "      <td>0.337031</td>\n",
       "      <td>0.164560</td>\n",
       "      <td>0.164491</td>\n",
       "    </tr>\n",
       "  </tbody>\n",
       "</table>\n",
       "</div>"
      ],
      "text/plain": [
       "                                      file        A        T       C       G  \\\n",
       "0    GCA_000013425.1_ASM1342v1_genomic.fna   938713   955315  465832  461500   \n",
       "1   GCA_000418345.1_ASM41834v1_genomic.fna   991460  1010093  501529  480374   \n",
       "2   GCA_000769575.1_ASM76957v1_genomic.fna  1010582  1032011  520238  483378   \n",
       "3  GCA_001027105.1_ASM102710v1_genomic.fna   934404   934422  453599  460137   \n",
       "4  GCA_001515665.1_ASM151566v1_genomic.fna   998423  1007733  492038  491833   \n",
       "\n",
       "   total_bases                                           sequence   A_ratio  \\\n",
       "0      2821361  CGATTAAAGATAGAAATACACGATGCGAGCAATCAAATTTCATAAC...  0.332716   \n",
       "1      2983456  GATTAAAGATAGAAATACACGATGCGAGCAATCAAATTTCATAACA...  0.332319   \n",
       "2      3046210  GATTAAAGATAGAAATACACGATGCGAGCAATCAAATTTCATAACA...  0.331751   \n",
       "3      2782562  ACTACTGCTCAATTTTTTTACTTTTATCGATTAAAGATAGAAATAC...  0.335807   \n",
       "4      2990027  ACACGATGCGAGCAATCAAATTTCATAACATCACCATGAGTTTGAT...  0.333918   \n",
       "\n",
       "    T_ratio   C_ratio   G_ratio  \n",
       "0  0.338601  0.165109  0.163574  \n",
       "1  0.338565  0.168103  0.161013  \n",
       "2  0.338785  0.170782  0.158682  \n",
       "3  0.335814  0.163015  0.165365  \n",
       "4  0.337031  0.164560  0.164491  "
      ]
     },
     "execution_count": 161,
     "metadata": {},
     "output_type": "execute_result"
    }
   ],
   "source": [
    "# Extract sequence data\n",
    "import os\n",
    "import pandas as pd\n",
    "from Bio import SeqIO\n",
    "\n",
    "data_folder = 'data/ncbi_staph50_dataset/all_fastas/'\n",
    "\n",
    "base_counts = []\n",
    "\n",
    "# Loop through each file in the directory\n",
    "for filename in os.listdir(data_folder):\n",
    "    if filename.endswith('.fna'):\n",
    "        file_path = os.path.join(data_folder, filename)\n",
    "        \n",
    "        # Initialize counts for A, T, C, G\n",
    "        base_count = {'file': filename, 'A': 0, 'T': 0, 'C': 0, 'G': 0, 'total_bases': 0}\n",
    "        full_sequence = ''\n",
    "        \n",
    "        # Parse the .fna file and count base occurrences\n",
    "        for record in SeqIO.parse(file_path, 'fasta'):\n",
    "            seq = str(record.seq).upper()\n",
    "            full_sequence += seq\n",
    "            base_count['A'] += seq.count('A')\n",
    "            base_count['T'] += seq.count('T')\n",
    "            base_count['C'] += seq.count('C')\n",
    "            base_count['G'] += seq.count('G')\n",
    "            base_count['total_bases'] += len(seq)\n",
    "\n",
    "        base_count['sequence'] = full_sequence\n",
    "        \n",
    "        # Calculate base ratios\n",
    "        if base_count['total_bases'] > 0:\n",
    "            base_count['A_ratio'] = base_count['A'] / base_count['total_bases']\n",
    "            base_count['T_ratio'] = base_count['T'] / base_count['total_bases']\n",
    "            base_count['C_ratio'] = base_count['C'] / base_count['total_bases']\n",
    "            base_count['G_ratio'] = base_count['G'] / base_count['total_bases']\n",
    "        else:\n",
    "            base_count['A_ratio'] = base_count['T_ratio'] = base_count['C_ratio'] = base_count['G_ratio'] = 0\n",
    "        \n",
    "        base_counts.append(base_count)\n",
    "\n",
    "\n",
    "df = pd.DataFrame(base_counts)\n",
    "df.head()\n"
   ]
  },
  {
   "cell_type": "code",
   "execution_count": null,
   "id": "82c7ac9c",
   "metadata": {},
   "outputs": [],
   "source": [
    "# Parse resistance data to dataframe\n",
    "results_folder = \"results/\"\n",
    "\n",
    "# Columns to keep from AMRFinderPlus output\n",
    "cols_to_keep = [\"Element symbol\", \"Class\"]\n",
    "\n",
    "# Master list for all parsed data\n",
    "amr_data = []\n",
    "\n",
    "# Parse each result file\n",
    "for filename in os.listdir(results_folder):\n",
    "    if filename.endswith(\"_amr.txt\"):\n",
    "        filepath = os.path.join(results_folder, filename)\n",
    "        try:\n",
    "            df_amr = pd.read_csv(filepath, sep=\"\\t\", dtype=str)\n",
    "            df_subset = df_amr[cols_to_keep].copy()\n",
    "            df_subset[\"file\"] = filename.replace(\"_amr.txt\", \"\")\n",
    "            amr_data.append(df_subset)\n",
    "        except Exception as e:\n",
    "            print(f\"Error processing {filename}: {e}\")\n",
    "\n",
    "# Combine all results\n",
    "all_amr = pd.concat(amr_data, ignore_index=True)\n",
    "\n",
    "# Drop rows with missing values\n",
    "all_amr = all_amr.dropna(subset=[\"Element symbol\", \"Class\"])\n",
    "all_amr = all_amr.drop_duplicates()\n",
    "\n",
    "# Group and concatenate element symbols and classes\n",
    "summary = (\n",
    "    all_amr.groupby(\"file\")\n",
    "    .agg({\n",
    "        \"Element symbol\": lambda x: \", \".join(x),\n",
    "        \"Class\": lambda x: \", \".join(x)\n",
    "    })\n",
    "    .reset_index()\n",
    ")\n",
    "\n",
    "df = df.merge(summary, on=\"file\", how=\"left\")\n"
   ]
  },
  {
   "cell_type": "markdown",
   "id": "69ef9b30",
   "metadata": {},
   "source": [
    "## **Data Visualizations**\n",
    "---\n",
    "Use graphs on dataframe to view patterns in gene bases in addition to resistance genes for developing ML models."
   ]
  },
  {
   "cell_type": "code",
   "execution_count": 162,
   "id": "175413c1",
   "metadata": {},
   "outputs": [
    {
     "name": "stderr",
     "output_type": "stream",
     "text": [
      "C:\\Users\\emily\\AppData\\Local\\Temp\\ipykernel_7504\\391794511.py:8: FutureWarning:\n",
      "\n",
      "\n",
      "\n",
      "Passing `palette` without assigning `hue` is deprecated and will be removed in v0.14.0. Assign the `x` variable to `hue` and set `legend=False` for the same effect.\n",
      "\n",
      "\n"
     ]
    },
    {
     "data": {
      "image/png": "[encoded data removed]",
      "text/plain": [
       "<Figure size 1000x600 with 1 Axes>"
      ]
     },
     "metadata": {},
     "output_type": "display_data"
    }
   ],
   "source": [
    "import matplotlib.pyplot as plt\n",
    "import seaborn as sns\n",
    "\n",
    "# Calculate the mean of the base ratios for each file\n",
    "mean_ratios = df[['A_ratio', 'T_ratio', 'C_ratio', 'G_ratio']].mean()\n",
    "\n",
    "plt.figure(figsize=(10, 6))\n",
    "sns.barplot(x=mean_ratios.index, y=mean_ratios.values, palette='viridis')\n",
    "plt.title('Average Base Ratios per Base Type', fontsize=16)\n",
    "plt.ylabel('Average Ratio')\n",
    "plt.xlabel('Base')\n",
    "plt.show()\n"
   ]
  },
  {
   "cell_type": "code",
   "execution_count": null,
   "id": "74266ad7",
   "metadata": {},
   "outputs": [
    {
     "data": {
      "application/vnd.plotly.v1+json": {
       "config": {
        "plotlyServerURL": "https://plot.ly"
       },
       "data": [
        {
         "hovertemplate": "Element Symbol=%{x}<br>Count=%{y}<extra></extra>",
         "legendgroup": "",
         "marker": {
          "color": "#636efa",
          "pattern": {
           "shape": ""
          }
         },
         "name": "",
         "orientation": "v",
         "showlegend": false,
         "textposition": "auto",
         "type": "bar",
         "x": [
          "tet(38)",
          "mepA",
          "lmrS",
          "fosB",
          "mecA",
          "mecR1",
          "erm(A)",
          "aac(6')-Ie/aph(2'')-Ia",
          "ant(9)-Ia",
          "blaR1",
          "mecI",
          "tet(M)",
          "blaI",
          "gyrA_S84L",
          "parC_S80F",
          "blaPC1",
          "murA_G257D",
          "folP_F17L",
          "folP_E258EKE",
          "ant(6)-Ia",
          "sat4",
          "aph(3')-IIIa",
          "merT",
          "merB",
          "merA",
          "qacR",
          "qacA",
          "dfrG",
          "cadD",
          "cadC",
          "tet(K)",
          "parE_D432N",
          "dfrB_F99Y",
          "rpoB_H481N",
          "dfrB_H150R",
          "ileS_V588F",
          "arsC",
          "fusA_L461K",
          "mco",
          "aadD1",
          "bleO",
          "arsB",
          "arsR",
          "dfrS1",
          "erm(C)",
          "gyrA_S85P",
          "catA",
          "dfrB_N60I",
          "dfrB_L21V",
          "blaZ",
          "mupA",
          "fusA_L461S",
          "folP_E208K",
          "fusC",
          "parC_E84K",
          "cat-TC",
          "glpT_A100V",
          "23S_G2604T",
          "murA_E291D",
          "rpoB_S529L",
          "folP_T51M",
          "rpsJ_Y58D",
          "qacC",
          "mprF_T345K",
          "parE_D432V",
          "rpoB_A477D",
          "gyrA_G106D",
          "murA_T396N",
          "rpoB_L466S",
          "glpT_V213I",
          "murA_D278E",
          "parC_E84G",
          "parC_S80Y",
          "msr(A)",
          "mph(C)"
         ],
         "xaxis": "x",
         "y": {
          "bdata": "S0tKSkA/Pj4+PDs6Ojo5Nzc2NTAwMC8vLyAgHRsZFxIQDwwKCQkICAgICAgHBwcGBgUFAwMDAwICAgICAgICAgICAQEBAQEBAQEB",
          "dtype": "i1"
         },
         "yaxis": "y"
        }
       ],
       "layout": {
        "barmode": "relative",
        "legend": {
         "tracegroupgap": 0
        },
        "template": {
         "data": {
          "bar": [
           {
            "error_x": {
             "color": "#2a3f5f"
            },
            "error_y": {
             "color": "#2a3f5f"
            },
            "marker": {
             "line": {
              "color": "#E5ECF6",
              "width": 0.5
             },
             "pattern": {
              "fillmode": "overlay",
              "size": 10,
              "solidity": 0.2
             }
            },
            "type": "bar"
           }
          ],
          "barpolar": [
           {
            "marker": {
             "line": {
              "color": "#E5ECF6",
              "width": 0.5
             },
             "pattern": {
              "fillmode": "overlay",
              "size": 10,
              "solidity": 0.2
             }
            },
            "type": "barpolar"
           }
          ],
          "carpet": [
           {
            "aaxis": {
             "endlinecolor": "#2a3f5f",
             "gridcolor": "white",
             "linecolor": "white",
             "minorgridcolor": "white",
             "startlinecolor": "#2a3f5f"
            },
            "baxis": {
             "endlinecolor": "#2a3f5f",
             "gridcolor": "white",
             "linecolor": "white",
             "minorgridcolor": "white",
             "startlinecolor": "#2a3f5f"
            },
            "type": "carpet"
           }
          ],
          "choropleth": [
           {
            "colorbar": {
             "outlinewidth": 0,
             "ticks": ""
            },
            "type": "choropleth"
           }
          ],
          "contour": [
           {
            "colorbar": {
             "outlinewidth": 0,
             "ticks": ""
            },
            "colorscale": [
             [
              0,
              "#0d0887"
             ],
             [
              0.1111111111111111,
              "#46039f"
             ],
             [
              0.2222222222222222,
              "#7201a8"
             ],
             [
              0.3333333333333333,
              "#9c179e"
             ],
             [
              0.4444444444444444,
              "#bd3786"
             ],
             [
              0.5555555555555556,
              "#d8576b"
             ],
             [
              0.6666666666666666,
              "#ed7953"
             ],
             [
              0.7777777777777778,
              "#fb9f3a"
             ],
             [
              0.8888888888888888,
              "#fdca26"
             ],
             [
              1,
              "#f0f921"
             ]
            ],
            "type": "contour"
           }
          ],
          "contourcarpet": [
           {
            "colorbar": {
             "outlinewidth": 0,
             "ticks": ""
            },
            "type": "contourcarpet"
           }
          ],
          "heatmap": [
           {
            "colorbar": {
             "outlinewidth": 0,
             "ticks": ""
            },
            "colorscale": [
             [
              0,
              "#0d0887"
             ],
             [
              0.1111111111111111,
              "#46039f"
             ],
             [
              0.2222222222222222,
              "#7201a8"
             ],
             [
              0.3333333333333333,
              "#9c179e"
             ],
             [
              0.4444444444444444,
              "#bd3786"
             ],
             [
              0.5555555555555556,
              "#d8576b"
             ],
             [
              0.6666666666666666,
              "#ed7953"
             ],
             [
              0.7777777777777778,
              "#fb9f3a"
             ],
             [
              0.8888888888888888,
              "#fdca26"
             ],
             [
              1,
              "#f0f921"
             ]
            ],
            "type": "heatmap"
           }
          ],
          "histogram": [
           {
            "marker": {
             "pattern": {
              "fillmode": "overlay",
              "size": 10,
              "solidity": 0.2
             }
            },
            "type": "histogram"
           }
          ],
          "histogram2d": [
           {
            "colorbar": {
             "outlinewidth": 0,
             "ticks": ""
            },
            "colorscale": [
             [
              0,
              "#0d0887"
             ],
             [
              0.1111111111111111,
              "#46039f"
             ],
             [
              0.2222222222222222,
              "#7201a8"
             ],
             [
              0.3333333333333333,
              "#9c179e"
             ],
             [
              0.4444444444444444,
              "#bd3786"
             ],
             [
              0.5555555555555556,
              "#d8576b"
             ],
             [
              0.6666666666666666,
              "#ed7953"
             ],
             [
              0.7777777777777778,
              "#fb9f3a"
             ],
             [
              0.8888888888888888,
              "#fdca26"
             ],
             [
              1,
              "#f0f921"
             ]
            ],
            "type": "histogram2d"
           }
          ],
          "histogram2dcontour": [
           {
            "colorbar": {
             "outlinewidth": 0,
             "ticks": ""
            },
            "colorscale": [
             [
              0,
              "#0d0887"
             ],
             [
              0.1111111111111111,
              "#46039f"
             ],
             [
              0.2222222222222222,
              "#7201a8"
             ],
             [
              0.3333333333333333,
              "#9c179e"
             ],
             [
              0.4444444444444444,
              "#bd3786"
             ],
             [
              0.5555555555555556,
              "#d8576b"
             ],
             [
              0.6666666666666666,
              "#ed7953"
             ],
             [
              0.7777777777777778,
              "#fb9f3a"
             ],
             [
              0.8888888888888888,
              "#fdca26"
             ],
             [
              1,
              "#f0f921"
             ]
            ],
            "type": "histogram2dcontour"
           }
          ],
          "mesh3d": [
           {
            "colorbar": {
             "outlinewidth": 0,
             "ticks": ""
            },
            "type": "mesh3d"
           }
          ],
          "parcoords": [
           {
            "line": {
             "colorbar": {
              "outlinewidth": 0,
              "ticks": ""
             }
            },
            "type": "parcoords"
           }
          ],
          "pie": [
           {
            "automargin": true,
            "type": "pie"
           }
          ],
          "scatter": [
           {
            "fillpattern": {
             "fillmode": "overlay",
             "size": 10,
             "solidity": 0.2
            },
            "type": "scatter"
           }
          ],
          "scatter3d": [
           {
            "line": {
             "colorbar": {
              "outlinewidth": 0,
              "ticks": ""
             }
            },
            "marker": {
             "colorbar": {
              "outlinewidth": 0,
              "ticks": ""
             }
            },
            "type": "scatter3d"
           }
          ],
          "scattercarpet": [
           {
            "marker": {
             "colorbar": {
              "outlinewidth": 0,
              "ticks": ""
             }
            },
            "type": "scattercarpet"
           }
          ],
          "scattergeo": [
           {
            "marker": {
             "colorbar": {
              "outlinewidth": 0,
              "ticks": ""
             }
            },
            "type": "scattergeo"
           }
          ],
          "scattergl": [
           {
            "marker": {
             "colorbar": {
              "outlinewidth": 0,
              "ticks": ""
             }
            },
            "type": "scattergl"
           }
          ],
          "scattermap": [
           {
            "marker": {
             "colorbar": {
              "outlinewidth": 0,
              "ticks": ""
             }
            },
            "type": "scattermap"
           }
          ],
          "scattermapbox": [
           {
            "marker": {
             "colorbar": {
              "outlinewidth": 0,
              "ticks": ""
             }
            },
            "type": "scattermapbox"
           }
          ],
          "scatterpolar": [
           {
            "marker": {
             "colorbar": {
              "outlinewidth": 0,
              "ticks": ""
             }
            },
            "type": "scatterpolar"
           }
          ],
          "scatterpolargl": [
           {
            "marker": {
             "colorbar": {
              "outlinewidth": 0,
              "ticks": ""
             }
            },
            "type": "scatterpolargl"
           }
          ],
          "scatterternary": [
           {
            "marker": {
             "colorbar": {
              "outlinewidth": 0,
              "ticks": ""
             }
            },
            "type": "scatterternary"
           }
          ],
          "surface": [
           {
            "colorbar": {
             "outlinewidth": 0,
             "ticks": ""
            },
            "colorscale": [
             [
              0,
              "#0d0887"
             ],
             [
              0.1111111111111111,
              "#46039f"
             ],
             [
              0.2222222222222222,
              "#7201a8"
             ],
             [
              0.3333333333333333,
              "#9c179e"
             ],
             [
              0.4444444444444444,
              "#bd3786"
             ],
             [
              0.5555555555555556,
              "#d8576b"
             ],
             [
              0.6666666666666666,
              "#ed7953"
             ],
             [
              0.7777777777777778,
              "#fb9f3a"
             ],
             [
              0.8888888888888888,
              "#fdca26"
             ],
             [
              1,
              "#f0f921"
             ]
            ],
            "type": "surface"
           }
          ],
          "table": [
           {
            "cells": {
             "fill": {
              "color": "#EBF0F8"
             },
             "line": {
              "color": "white"
             }
            },
            "header": {
             "fill": {
              "color": "#C8D4E3"
             },
             "line": {
              "color": "white"
             }
            },
            "type": "table"
           }
          ]
         },
         "layout": {
          "annotationdefaults": {
           "arrowcolor": "#2a3f5f",
           "arrowhead": 0,
           "arrowwidth": 1
          },
          "autotypenumbers": "strict",
          "coloraxis": {
           "colorbar": {
            "outlinewidth": 0,
            "ticks": ""
           }
          },
          "colorscale": {
           "diverging": [
            [
             0,
             "#8e0152"
            ],
            [
             0.1,
             "#c51b7d"
            ],
            [
             0.2,
             "#de77ae"
            ],
            [
             0.3,
             "#f1b6da"
            ],
            [
             0.4,
             "#fde0ef"
            ],
            [
             0.5,
             "#f7f7f7"
            ],
            [
             0.6,
             "#e6f5d0"
            ],
            [
             0.7,
             "#b8e186"
            ],
            [
             0.8,
             "#7fbc41"
            ],
            [
             0.9,
             "#4d9221"
            ],
            [
             1,
             "#276419"
            ]
           ],
           "sequential": [
            [
             0,
             "#0d0887"
            ],
            [
             0.1111111111111111,
             "#46039f"
            ],
            [
             0.2222222222222222,
             "#7201a8"
            ],
            [
             0.3333333333333333,
             "#9c179e"
            ],
            [
             0.4444444444444444,
             "#bd3786"
            ],
            [
             0.5555555555555556,
             "#d8576b"
            ],
            [
             0.6666666666666666,
             "#ed7953"
            ],
            [
             0.7777777777777778,
             "#fb9f3a"
            ],
            [
             0.8888888888888888,
             "#fdca26"
            ],
            [
             1,
             "#f0f921"
            ]
           ],
           "sequentialminus": [
            [
             0,
             "#0d0887"
            ],
            [
             0.1111111111111111,
             "#46039f"
            ],
            [
             0.2222222222222222,
             "#7201a8"
            ],
            [
             0.3333333333333333,
             "#9c179e"
            ],
            [
             0.4444444444444444,
             "#bd3786"
            ],
            [
             0.5555555555555556,
             "#d8576b"
            ],
            [
             0.6666666666666666,
             "#ed7953"
            ],
            [
             0.7777777777777778,
             "#fb9f3a"
            ],
            [
             0.8888888888888888,
             "#fdca26"
            ],
            [
             1,
             "#f0f921"
            ]
           ]
          },
          "colorway": [
           "#636efa",
           "#EF553B",
           "#00cc96",
           "#ab63fa",
           "#FFA15A",
           "#19d3f3",
           "#FF6692",
           "#B6E880",
           "#FF97FF",
           "#FECB52"
          ],
          "font": {
           "color": "#2a3f5f"
          },
          "geo": {
           "bgcolor": "white",
           "lakecolor": "white",
           "landcolor": "#E5ECF6",
           "showlakes": true,
           "showland": true,
           "subunitcolor": "white"
          },
          "hoverlabel": {
           "align": "left"
          },
          "hovermode": "closest",
          "mapbox": {
           "style": "light"
          },
          "paper_bgcolor": "white",
          "plot_bgcolor": "#E5ECF6",
          "polar": {
           "angularaxis": {
            "gridcolor": "white",
            "linecolor": "white",
            "ticks": ""
           },
           "bgcolor": "#E5ECF6",
           "radialaxis": {
            "gridcolor": "white",
            "linecolor": "white",
            "ticks": ""
           }
          },
          "scene": {
           "xaxis": {
            "backgroundcolor": "#E5ECF6",
            "gridcolor": "white",
            "gridwidth": 2,
            "linecolor": "white",
            "showbackground": true,
            "ticks": "",
            "zerolinecolor": "white"
           },
           "yaxis": {
            "backgroundcolor": "#E5ECF6",
            "gridcolor": "white",
            "gridwidth": 2,
            "linecolor": "white",
            "showbackground": true,
            "ticks": "",
            "zerolinecolor": "white"
           },
           "zaxis": {
            "backgroundcolor": "#E5ECF6",
            "gridcolor": "white",
            "gridwidth": 2,
            "linecolor": "white",
            "showbackground": true,
            "ticks": "",
            "zerolinecolor": "white"
           }
          },
          "shapedefaults": {
           "line": {
            "color": "#2a3f5f"
           }
          },
          "ternary": {
           "aaxis": {
            "gridcolor": "white",
            "linecolor": "white",
            "ticks": ""
           },
           "baxis": {
            "gridcolor": "white",
            "linecolor": "white",
            "ticks": ""
           },
           "bgcolor": "#E5ECF6",
           "caxis": {
            "gridcolor": "white",
            "linecolor": "white",
            "ticks": ""
           }
          },
          "title": {
           "x": 0.05
          },
          "xaxis": {
           "automargin": true,
           "gridcolor": "white",
           "linecolor": "white",
           "ticks": "",
           "title": {
            "standoff": 15
           },
           "zerolinecolor": "white",
           "zerolinewidth": 2
          },
          "yaxis": {
           "automargin": true,
           "gridcolor": "white",
           "linecolor": "white",
           "ticks": "",
           "title": {
            "standoff": 15
           },
           "zerolinecolor": "white",
           "zerolinewidth": 2
          }
         }
        },
        "title": {
         "text": "Frequency of Element Symbols"
        },
        "xaxis": {
         "anchor": "y",
         "domain": [
          0,
          1
         ],
         "tickangle": -90,
         "title": {
          "text": "Element Symbol"
         }
        },
        "yaxis": {
         "anchor": "x",
         "domain": [
          0,
          1
         ],
         "title": {
          "text": "Count"
         }
        }
       }
      }
     },
     "metadata": {},
     "output_type": "display_data"
    }
   ],
   "source": [
    "# Hover to see resistance gene name\n",
    "import plotly.express as px\n",
    "\n",
    "all_amr_exploded = df.assign(**{\n",
    "    'Element symbol': df['Element symbol'].str.split(', ')\n",
    "}).explode('Element symbol')\n",
    "\n",
    "# Count the occurrences of each element symbol\n",
    "element_counts = all_amr_exploded['Element symbol'].value_counts().reset_index()\n",
    "element_counts.columns = ['Element symbol', 'Count']\n",
    "\n",
    "# Create interactive bar plot\n",
    "fig = px.bar(\n",
    "    element_counts,\n",
    "    x='Element symbol',\n",
    "    y='Count',\n",
    "    hover_data=['Element symbol', 'Count'],\n",
    "    title='Frequency of Element Symbols',\n",
    "    labels={'Element symbol': 'Element Symbol', 'Count': 'Count'}\n",
    ")\n",
    "\n",
    "# Rotate x-axis labels\n",
    "fig.update_layout(\n",
    "    xaxis_tickangle=-90\n",
    ")\n",
    "\n",
    "fig.show()"
   ]
  },
  {
   "cell_type": "markdown",
   "id": "801618f9",
   "metadata": {},
   "source": [
    "## **Machine Learning**\n",
    "---\n",
    "This section details how to develop multiple supervised machine learning models and a novel feedforward network. First steps refer to data visualizations section."
   ]
  },
  {
   "cell_type": "markdown",
   "id": "21264809",
   "metadata": {},
   "source": [
    "#### **Filtering for resistance gene labels**\n",
    "For the supervised and deep learning models, we want to narrow down the task to predicting the existance of a specific resistance gene. Refer to the graph above and select a resistance element (I selected two resistance genes to show different results.)"
   ]
  },
  {
   "cell_type": "code",
   "execution_count": 181,
   "id": "b99d7a95",
   "metadata": {},
   "outputs": [],
   "source": [
    "df['qacR'] = df['Element symbol'].str.contains(r'\\bqacA\\b', na=False)\n",
    "df['qacR'] = df['qacR'].astype(int)\n",
    "\n"
   ]
  },
  {
   "cell_type": "code",
   "execution_count": 182,
   "id": "18fcc763",
   "metadata": {},
   "outputs": [
    {
     "name": "stdout",
     "output_type": "stream",
     "text": [
      "parE\n",
      "0    57\n",
      "1    18\n",
      "Name: count, dtype: int64\n"
     ]
    }
   ],
   "source": [
    "df['parE'] = df['Element symbol'].str.contains(r'\\bparE_D432N\\b', na=False, regex=True)\n",
    "df['parE'] = df['parE'].astype(int)\n",
    "print(df['parE'].value_counts())\n"
   ]
  },
  {
   "cell_type": "code",
   "execution_count": 188,
   "id": "99a8a75b",
   "metadata": {},
   "outputs": [
    {
     "data": {
      "text/html": [
       "<div>\n",
       "<style scoped>\n",
       "    .dataframe tbody tr th:only-of-type {\n",
       "        vertical-align: middle;\n",
       "    }\n",
       "\n",
       "    .dataframe tbody tr th {\n",
       "        vertical-align: top;\n",
       "    }\n",
       "\n",
       "    .dataframe thead th {\n",
       "        text-align: right;\n",
       "    }\n",
       "</style>\n",
       "<table border=\"1\" class=\"dataframe\">\n",
       "  <thead>\n",
       "    <tr style=\"text-align: right;\">\n",
       "      <th></th>\n",
       "      <th>file</th>\n",
       "      <th>A</th>\n",
       "      <th>T</th>\n",
       "      <th>C</th>\n",
       "      <th>G</th>\n",
       "      <th>total_bases</th>\n",
       "      <th>sequence</th>\n",
       "      <th>A_ratio</th>\n",
       "      <th>T_ratio</th>\n",
       "      <th>C_ratio</th>\n",
       "      <th>G_ratio</th>\n",
       "      <th>resistance_status</th>\n",
       "      <th>qacR</th>\n",
       "      <th>parE</th>\n",
       "      <th>Element symbol</th>\n",
       "      <th>Class</th>\n",
       "    </tr>\n",
       "  </thead>\n",
       "  <tbody>\n",
       "    <tr>\n",
       "      <th>8</th>\n",
       "      <td>GCA_001641025.1_ASM164102v1_genomic.fna</td>\n",
       "      <td>1039246</td>\n",
       "      <td>1053103</td>\n",
       "      <td>512625</td>\n",
       "      <td>509302</td>\n",
       "      <td>3114278</td>\n",
       "      <td>CGATTAAAGATAGAAATACACGATGCGAGCAATCAAATTTCATAAC...</td>\n",
       "      <td>0.333704</td>\n",
       "      <td>0.338153</td>\n",
       "      <td>0.164605</td>\n",
       "      <td>0.163538</td>\n",
       "      <td>Resistant</td>\n",
       "      <td>1</td>\n",
       "      <td>0</td>\n",
       "      <td>gyrA_S84L, ant(9)-Ia, erm(A), merT, merA, merB...</td>\n",
       "      <td>QUINOLONE, AMINOGLYCOSIDE, LINCOSAMIDE/MACROLI...</td>\n",
       "    </tr>\n",
       "    <tr>\n",
       "      <th>20</th>\n",
       "      <td>GCA_026625205.1_ASM2662520v1_genomic.fna</td>\n",
       "      <td>1022551</td>\n",
       "      <td>1031215</td>\n",
       "      <td>501861</td>\n",
       "      <td>501549</td>\n",
       "      <td>3057176</td>\n",
       "      <td>ATGAACATTGAAAACTGAATGACAATATGTCAACGTTAATTCCAAA...</td>\n",
       "      <td>0.334476</td>\n",
       "      <td>0.337310</td>\n",
       "      <td>0.164158</td>\n",
       "      <td>0.164056</td>\n",
       "      <td>Resistant</td>\n",
       "      <td>1</td>\n",
       "      <td>1</td>\n",
       "      <td>qacR, qacA, cadD, cadC, folP_E258EKE, folP_F17...</td>\n",
       "      <td>QUATERNARY AMMONIUM, QUATERNARY AMMONIUM, CADM...</td>\n",
       "    </tr>\n",
       "    <tr>\n",
       "      <th>21</th>\n",
       "      <td>GCA_026625225.1_ASM2662522v1_genomic.fna</td>\n",
       "      <td>1033304</td>\n",
       "      <td>1023411</td>\n",
       "      <td>502195</td>\n",
       "      <td>502437</td>\n",
       "      <td>3061347</td>\n",
       "      <td>AAGTTAGTTGCTTCTGTTCCTCATATTCCAAACCATGTTGCTTTAT...</td>\n",
       "      <td>0.337532</td>\n",
       "      <td>0.334301</td>\n",
       "      <td>0.164044</td>\n",
       "      <td>0.164123</td>\n",
       "      <td>Resistant</td>\n",
       "      <td>1</td>\n",
       "      <td>1</td>\n",
       "      <td>tet(38), mecI, mecR1, mecA, merB, merA, merT, ...</td>\n",
       "      <td>TETRACYCLINE, BETA-LACTAM, BETA-LACTAM, BETA-L...</td>\n",
       "    </tr>\n",
       "    <tr>\n",
       "      <th>22</th>\n",
       "      <td>GCA_026625245.1_ASM2662524v1_genomic.fna</td>\n",
       "      <td>1007036</td>\n",
       "      <td>1020558</td>\n",
       "      <td>495720</td>\n",
       "      <td>493273</td>\n",
       "      <td>3016587</td>\n",
       "      <td>AATTAACTTAGTCATGAAATGGTAGGTGTAAGCATGAGAGATACAG...</td>\n",
       "      <td>0.333833</td>\n",
       "      <td>0.338315</td>\n",
       "      <td>0.164331</td>\n",
       "      <td>0.163520</td>\n",
       "      <td>Resistant</td>\n",
       "      <td>1</td>\n",
       "      <td>1</td>\n",
       "      <td>mepA, tet(M), dfrG, folP_E258EKE, folP_F17L, p...</td>\n",
       "      <td>TETRACYCLINE, TETRACYCLINE, TRIMETHOPRIM, SULF...</td>\n",
       "    </tr>\n",
       "    <tr>\n",
       "      <th>23</th>\n",
       "      <td>GCA_026625265.1_ASM2662526v1_genomic.fna</td>\n",
       "      <td>1030425</td>\n",
       "      <td>1038729</td>\n",
       "      <td>504785</td>\n",
       "      <td>505028</td>\n",
       "      <td>3078967</td>\n",
       "      <td>TGCCTGGCAACGTTCTACTCTAGCGGAACGTAAGTTCGACTACCAT...</td>\n",
       "      <td>0.334666</td>\n",
       "      <td>0.337363</td>\n",
       "      <td>0.163946</td>\n",
       "      <td>0.164025</td>\n",
       "      <td>Resistant</td>\n",
       "      <td>1</td>\n",
       "      <td>1</td>\n",
       "      <td>cadC, qacR, qacA, cadD, lmrS, fosB, blaI, blaR...</td>\n",
       "      <td>CADMIUM/LEAD/ZINC, QUATERNARY AMMONIUM, QUATER...</td>\n",
       "    </tr>\n",
       "  </tbody>\n",
       "</table>\n",
       "</div>"
      ],
      "text/plain": [
       "                                        file        A        T       C  \\\n",
       "8    GCA_001641025.1_ASM164102v1_genomic.fna  1039246  1053103  512625   \n",
       "20  GCA_026625205.1_ASM2662520v1_genomic.fna  1022551  1031215  501861   \n",
       "21  GCA_026625225.1_ASM2662522v1_genomic.fna  1033304  1023411  502195   \n",
       "22  GCA_026625245.1_ASM2662524v1_genomic.fna  1007036  1020558  495720   \n",
       "23  GCA_026625265.1_ASM2662526v1_genomic.fna  1030425  1038729  504785   \n",
       "\n",
       "         G  total_bases                                           sequence  \\\n",
       "8   509302      3114278  CGATTAAAGATAGAAATACACGATGCGAGCAATCAAATTTCATAAC...   \n",
       "20  501549      3057176  ATGAACATTGAAAACTGAATGACAATATGTCAACGTTAATTCCAAA...   \n",
       "21  502437      3061347  AAGTTAGTTGCTTCTGTTCCTCATATTCCAAACCATGTTGCTTTAT...   \n",
       "22  493273      3016587  AATTAACTTAGTCATGAAATGGTAGGTGTAAGCATGAGAGATACAG...   \n",
       "23  505028      3078967  TGCCTGGCAACGTTCTACTCTAGCGGAACGTAAGTTCGACTACCAT...   \n",
       "\n",
       "     A_ratio   T_ratio   C_ratio   G_ratio resistance_status  qacR  parE  \\\n",
       "8   0.333704  0.338153  0.164605  0.163538         Resistant     1     0   \n",
       "20  0.334476  0.337310  0.164158  0.164056         Resistant     1     1   \n",
       "21  0.337532  0.334301  0.164044  0.164123         Resistant     1     1   \n",
       "22  0.333833  0.338315  0.164331  0.163520         Resistant     1     1   \n",
       "23  0.334666  0.337363  0.163946  0.164025         Resistant     1     1   \n",
       "\n",
       "                                       Element symbol  \\\n",
       "8   gyrA_S84L, ant(9)-Ia, erm(A), merT, merA, merB...   \n",
       "20  qacR, qacA, cadD, cadC, folP_E258EKE, folP_F17...   \n",
       "21  tet(38), mecI, mecR1, mecA, merB, merA, merT, ...   \n",
       "22  mepA, tet(M), dfrG, folP_E258EKE, folP_F17L, p...   \n",
       "23  cadC, qacR, qacA, cadD, lmrS, fosB, blaI, blaR...   \n",
       "\n",
       "                                                Class  \n",
       "8   QUINOLONE, AMINOGLYCOSIDE, LINCOSAMIDE/MACROLI...  \n",
       "20  QUATERNARY AMMONIUM, QUATERNARY AMMONIUM, CADM...  \n",
       "21  TETRACYCLINE, BETA-LACTAM, BETA-LACTAM, BETA-L...  \n",
       "22  TETRACYCLINE, TETRACYCLINE, TRIMETHOPRIM, SULF...  \n",
       "23  CADMIUM/LEAD/ZINC, QUATERNARY AMMONIUM, QUATER...  "
      ]
     },
     "execution_count": 188,
     "metadata": {},
     "output_type": "execute_result"
    }
   ],
   "source": [
    "# Optional: Check to make sure resistance genes are filtered\n",
    "filtered_df = df[(df['qacR'] == 1)]\n",
    "filtered_df.head()\n"
   ]
  },
  {
   "cell_type": "markdown",
   "id": "d9f00d37",
   "metadata": {},
   "source": [
    "#### **Supervised learning models**\n",
    "Creates a logistic regression, random forest, and extreme gradient boosting model to determine if a sequence has a specificied resistance gene based exclusively on sequence information."
   ]
  },
  {
   "cell_type": "code",
   "execution_count": null,
   "id": "f5f3b3b5",
   "metadata": {},
   "outputs": [
    {
     "name": "stdout",
     "output_type": "stream",
     "text": [
      "Logistic Regression:\n",
      "              precision    recall  f1-score   support\n",
      "\n",
      "           0       0.60      1.00      0.75         9\n",
      "           1       0.00      0.00      0.00         6\n",
      "\n",
      "    accuracy                           0.60        15\n",
      "   macro avg       0.30      0.50      0.38        15\n",
      "weighted avg       0.36      0.60      0.45        15\n",
      "\n",
      "Random Forest:\n",
      "              precision    recall  f1-score   support\n",
      "\n",
      "           0       0.82      1.00      0.90         9\n",
      "           1       1.00      0.67      0.80         6\n",
      "\n",
      "    accuracy                           0.87        15\n",
      "   macro avg       0.91      0.83      0.85        15\n",
      "weighted avg       0.89      0.87      0.86        15\n",
      "\n",
      "XGBoost:\n",
      "              precision    recall  f1-score   support\n",
      "\n",
      "           0       0.80      0.89      0.84         9\n",
      "           1       0.80      0.67      0.73         6\n",
      "\n",
      "    accuracy                           0.80        15\n",
      "   macro avg       0.80      0.78      0.78        15\n",
      "weighted avg       0.80      0.80      0.80        15\n",
      "\n"
     ]
    }
   ],
   "source": [
    "from sklearn.model_selection import train_test_split\n",
    "from sklearn.feature_extraction.text import TfidfVectorizer\n",
    "from sklearn.linear_model import LogisticRegression\n",
    "from sklearn.ensemble import RandomForestClassifier\n",
    "from xgboost import XGBClassifier\n",
    "from sklearn.metrics import classification_report\n",
    "\n",
    "# Features and target\n",
    "X = df['sequence']\n",
    "y = df['qacR']  # Make sure this is 0 or 1 (binary labels)\n",
    "\n",
    "X_train, X_test, y_train, y_test = train_test_split(\n",
    "    X, y, test_size=0.2, stratify=y, random_state=42\n",
    ")\n",
    "\n",
    "# TF-IDF Vectorization (3-mers)\n",
    "tfidf = TfidfVectorizer(analyzer='char', ngram_range=(3, 3))\n",
    "X_train_tfidf = tfidf.fit_transform(X_train)\n",
    "X_test_tfidf = tfidf.transform(X_test)\n",
    "\n",
    "# Logistic Regression\n",
    "lr_model = LogisticRegression(max_iter=1000)\n",
    "lr_model.fit(X_train_tfidf, y_train)\n",
    "y_pred_lr = lr_model.predict(X_test_tfidf)\n",
    "print(\"Logistic Regression:\")\n",
    "print(classification_report(y_test, y_pred_lr, zero_division=0))\n",
    "\n",
    "# Random Forest\n",
    "rf_model = RandomForestClassifier(n_estimators=100, random_state=42)\n",
    "rf_model.fit(X_train_tfidf, y_train)\n",
    "y_pred_rf = rf_model.predict(X_test_tfidf)\n",
    "print(\"Random Forest:\")\n",
    "print(classification_report(y_test, y_pred_rf, zero_division=0))\n",
    "\n",
    "# XG Boost\n",
    "xgb_model = XGBClassifier(eval_metric='logloss')\n",
    "xgb_model.fit(X_train_tfidf, y_train)\n",
    "y_pred_xgb = xgb_model.predict(X_test_tfidf)\n",
    "print(\"XGBoost:\")\n",
    "print(classification_report(y_test, y_pred_xgb, zero_division=0))\n"
   ]
  },
  {
   "cell_type": "code",
   "execution_count": null,
   "id": "273c5b18",
   "metadata": {},
   "outputs": [
    {
     "name": "stdout",
     "output_type": "stream",
     "text": [
      "Logistic Regression:\n",
      "              precision    recall  f1-score   support\n",
      "\n",
      "           0       0.73      1.00      0.85        11\n",
      "           1       0.00      0.00      0.00         4\n",
      "\n",
      "    accuracy                           0.73        15\n",
      "   macro avg       0.37      0.50      0.42        15\n",
      "weighted avg       0.54      0.73      0.62        15\n",
      "\n",
      "Random Forest:\n",
      "              precision    recall  f1-score   support\n",
      "\n",
      "           0       0.92      1.00      0.96        11\n",
      "           1       1.00      0.75      0.86         4\n",
      "\n",
      "    accuracy                           0.93        15\n",
      "   macro avg       0.96      0.88      0.91        15\n",
      "weighted avg       0.94      0.93      0.93        15\n",
      "\n",
      "XGBoost:\n",
      "              precision    recall  f1-score   support\n",
      "\n",
      "           0       0.92      1.00      0.96        11\n",
      "           1       1.00      0.75      0.86         4\n",
      "\n",
      "    accuracy                           0.93        15\n",
      "   macro avg       0.96      0.88      0.91        15\n",
      "weighted avg       0.94      0.93      0.93        15\n",
      "\n"
     ]
    }
   ],
   "source": [
    "# Features and target\n",
    "X = df['sequence']\n",
    "y = df['parE']  # Make sure this is 0 or 1 (binary labels)\n",
    "\n",
    "# Train-test split\n",
    "X_train, X_test, y_train, y_test = train_test_split(\n",
    "    X, y, test_size=0.2, stratify=y, random_state=42\n",
    ")\n",
    "\n",
    "# TF-IDF Vectorization (3-mers)\n",
    "tfidf = TfidfVectorizer(analyzer='char', ngram_range=(3, 3))\n",
    "X_train_tfidf = tfidf.fit_transform(X_train)\n",
    "X_test_tfidf = tfidf.transform(X_test)\n",
    "\n",
    "# Logistic Regression\n",
    "lr_model = LogisticRegression(max_iter=1000)\n",
    "lr_model.fit(X_train_tfidf, y_train)\n",
    "y_pred_lr = lr_model.predict(X_test_tfidf)\n",
    "print(\"Logistic Regression:\")\n",
    "print(classification_report(y_test, y_pred_lr, zero_division=0))\n",
    "\n",
    "# Random Forest\n",
    "rf_model = RandomForestClassifier(n_estimators=100, random_state=42)\n",
    "rf_model.fit(X_train_tfidf, y_train)\n",
    "y_pred_rf = rf_model.predict(X_test_tfidf)\n",
    "print(\"Random Forest:\")\n",
    "print(classification_report(y_test, y_pred_rf, zero_division=0))\n",
    "\n",
    "# XG Boost\n",
    "xgb_model = XGBClassifier(eval_metric='logloss')\n",
    "xgb_model.fit(X_train_tfidf, y_train)\n",
    "y_pred_xgb = xgb_model.predict(X_test_tfidf)\n",
    "print(\"XGBoost:\")\n",
    "print(classification_report(y_test, y_pred_xgb, zero_division=0))\n"
   ]
  },
  {
   "cell_type": "markdown",
   "id": "9e46011f",
   "metadata": {},
   "source": [
    "#### **Deep Learning Models**\n",
    "Develop simple feedforward models to predict if a specific resistance gene is found in a sequence."
   ]
  },
  {
   "cell_type": "code",
   "execution_count": null,
   "id": "c00e4cee",
   "metadata": {},
   "outputs": [
    {
     "name": "stderr",
     "output_type": "stream",
     "text": [
      "c:\\Users\\emily\\Downloads\\nuig-research\\.venv\\Lib\\site-packages\\keras\\src\\layers\\core\\dense.py:93: UserWarning:\n",
      "\n",
      "Do not pass an `input_shape`/`input_dim` argument to a layer. When using Sequential models, prefer using an `Input(shape)` object as the first layer in the model instead.\n",
      "\n"
     ]
    },
    {
     "name": "stdout",
     "output_type": "stream",
     "text": [
      "Epoch 1/10\n",
      "\u001b[1m2/2\u001b[0m \u001b[32m━━━━━━━━━━━━━━━━━━━━\u001b[0m\u001b[37m\u001b[0m \u001b[1m1s\u001b[0m 281ms/step - accuracy: 0.5208 - loss: 0.6756 - val_accuracy: 0.4667 - val_loss: 0.6456\n",
      "Epoch 2/10\n",
      "\u001b[1m2/2\u001b[0m \u001b[32m━━━━━━━━━━━━━━━━━━━━\u001b[0m\u001b[37m\u001b[0m \u001b[1m0s\u001b[0m 117ms/step - accuracy: 0.5875 - loss: 0.6599 - val_accuracy: 0.6667 - val_loss: 0.6213\n",
      "Epoch 3/10\n",
      "\u001b[1m2/2\u001b[0m \u001b[32m━━━━━━━━━━━━━━━━━━━━\u001b[0m\u001b[37m\u001b[0m \u001b[1m0s\u001b[0m 111ms/step - accuracy: 0.6194 - loss: 0.6394 - val_accuracy: 0.7333 - val_loss: 0.5999\n",
      "Epoch 4/10\n",
      "\u001b[1m2/2\u001b[0m \u001b[32m━━━━━━━━━━━━━━━━━━━━\u001b[0m\u001b[37m\u001b[0m \u001b[1m0s\u001b[0m 114ms/step - accuracy: 0.6201 - loss: 0.6108 - val_accuracy: 0.8000 - val_loss: 0.5802\n",
      "Epoch 5/10\n",
      "\u001b[1m2/2\u001b[0m \u001b[32m━━━━━━━━━━━━━━━━━━━━\u001b[0m\u001b[37m\u001b[0m \u001b[1m0s\u001b[0m 110ms/step - accuracy: 0.6097 - loss: 0.6091 - val_accuracy: 0.8000 - val_loss: 0.5615\n",
      "Epoch 6/10\n",
      "\u001b[1m2/2\u001b[0m \u001b[32m━━━━━━━━━━━━━━━━━━━━\u001b[0m\u001b[37m\u001b[0m \u001b[1m0s\u001b[0m 110ms/step - accuracy: 0.7069 - loss: 0.5910 - val_accuracy: 0.8000 - val_loss: 0.5455\n",
      "Epoch 7/10\n",
      "\u001b[1m2/2\u001b[0m \u001b[32m━━━━━━━━━━━━━━━━━━━━\u001b[0m\u001b[37m\u001b[0m \u001b[1m0s\u001b[0m 118ms/step - accuracy: 0.6410 - loss: 0.5974 - val_accuracy: 0.8000 - val_loss: 0.5319\n",
      "Epoch 8/10\n",
      "\u001b[1m2/2\u001b[0m \u001b[32m━━━━━━━━━━━━━━━━━━━━\u001b[0m\u001b[37m\u001b[0m \u001b[1m0s\u001b[0m 133ms/step - accuracy: 0.6535 - loss: 0.5967 - val_accuracy: 0.8000 - val_loss: 0.5208\n",
      "Epoch 9/10\n",
      "\u001b[1m2/2\u001b[0m \u001b[32m━━━━━━━━━━━━━━━━━━━━\u001b[0m\u001b[37m\u001b[0m \u001b[1m0s\u001b[0m 109ms/step - accuracy: 0.6750 - loss: 0.5769 - val_accuracy: 0.8000 - val_loss: 0.5110\n",
      "Epoch 10/10\n",
      "\u001b[1m2/2\u001b[0m \u001b[32m━━━━━━━━━━━━━━━━━━━━\u001b[0m\u001b[37m\u001b[0m \u001b[1m0s\u001b[0m 105ms/step - accuracy: 0.6424 - loss: 0.5808 - val_accuracy: 0.8000 - val_loss: 0.5026\n",
      "\u001b[1m1/1\u001b[0m \u001b[32m━━━━━━━━━━━━━━━━━━━━\u001b[0m\u001b[37m\u001b[0m \u001b[1m0s\u001b[0m 66ms/step - accuracy: 0.8000 - loss: 0.5026\n",
      "Test accuracy: 80.00%\n"
     ]
    }
   ],
   "source": [
    "from sklearn.preprocessing import StandardScaler\n",
    "from tensorflow.keras.models import Sequential\n",
    "from tensorflow.keras.layers import Dense, Dropout\n",
    "from tensorflow.keras.optimizers import Adam\n",
    "from scipy import sparse\n",
    "\n",
    "# Prepare the features and target\n",
    "X_num = df[['A', 'T', 'C', 'G', 'total_bases', 'A_ratio', 'T_ratio', 'C_ratio', 'G_ratio']]\n",
    "y = df['qacR']\n",
    "\n",
    "# Normalize and vectorize\n",
    "scaler = StandardScaler()\n",
    "X_scaled = scaler.fit_transform(X_num)\n",
    "tfidf = TfidfVectorizer(analyzer='char', ngram_range=(3, 3))\n",
    "X_seq = tfidf.fit_transform(df['sequence'])\n",
    "X_scaled_sparse = sparse.csr_matrix(X_scaled)\n",
    "X_combined = sparse.hstack([X_scaled_sparse, X_seq])\n",
    "\n",
    "# Split into training and testing sets\n",
    "X_train, X_test, y_train, y_test = train_test_split(X_combined, y, test_size=0.2, random_state=42)\n",
    "\n",
    "# Build the model\n",
    "model = Sequential()\n",
    "model.add(Dense(128, input_dim=X_combined.shape[1], activation='relu'))\n",
    "model.add(Dropout(0.3))\n",
    "model.add(Dense(64, activation='relu'))\n",
    "model.add(Dropout(0.3))\n",
    "model.add(Dense(1, activation='sigmoid'))\n",
    "\n",
    "# Compile the model\n",
    "model.compile(optimizer=Adam(), loss='binary_crossentropy', metrics=['accuracy'])\n",
    "\n",
    "# Train the model\n",
    "model.fit(X_train, y_train, epochs=10, batch_size=32, validation_data=(X_test, y_test))\n",
    "\n",
    "# Evaluate\n",
    "loss, accuracy = model.evaluate(X_test, y_test)\n",
    "print(f\"Test accuracy: {accuracy * 100:.2f}%\")\n"
   ]
  },
  {
   "cell_type": "code",
   "execution_count": 193,
   "id": "556825ef",
   "metadata": {},
   "outputs": [
    {
     "name": "stdout",
     "output_type": "stream",
     "text": [
      "Epoch 1/10\n"
     ]
    },
    {
     "name": "stderr",
     "output_type": "stream",
     "text": [
      "c:\\Users\\emily\\Downloads\\nuig-research\\.venv\\Lib\\site-packages\\keras\\src\\layers\\core\\dense.py:93: UserWarning:\n",
      "\n",
      "Do not pass an `input_shape`/`input_dim` argument to a layer. When using Sequential models, prefer using an `Input(shape)` object as the first layer in the model instead.\n",
      "\n"
     ]
    },
    {
     "name": "stdout",
     "output_type": "stream",
     "text": [
      "\u001b[1m2/2\u001b[0m \u001b[32m━━━━━━━━━━━━━━━━━━━━\u001b[0m\u001b[37m\u001b[0m \u001b[1m1s\u001b[0m 258ms/step - accuracy: 0.6438 - loss: 0.6478 - val_accuracy: 0.9333 - val_loss: 0.5803\n",
      "Epoch 2/10\n",
      "\u001b[1m2/2\u001b[0m \u001b[32m━━━━━━━━━━━━━━━━━━━━\u001b[0m\u001b[37m\u001b[0m \u001b[1m0s\u001b[0m 108ms/step - accuracy: 0.6424 - loss: 0.6267 - val_accuracy: 0.9333 - val_loss: 0.5331\n",
      "Epoch 3/10\n",
      "\u001b[1m2/2\u001b[0m \u001b[32m━━━━━━━━━━━━━━━━━━━━\u001b[0m\u001b[37m\u001b[0m \u001b[1m0s\u001b[0m 104ms/step - accuracy: 0.7285 - loss: 0.5919 - val_accuracy: 0.9333 - val_loss: 0.4907\n",
      "Epoch 4/10\n",
      "\u001b[1m2/2\u001b[0m \u001b[32m━━━━━━━━━━━━━━━━━━━━\u001b[0m\u001b[37m\u001b[0m \u001b[1m0s\u001b[0m 100ms/step - accuracy: 0.7382 - loss: 0.5582 - val_accuracy: 0.9333 - val_loss: 0.4525\n",
      "Epoch 5/10\n",
      "\u001b[1m2/2\u001b[0m \u001b[32m━━━━━━━━━━━━━━━━━━━━\u001b[0m\u001b[37m\u001b[0m \u001b[1m0s\u001b[0m 114ms/step - accuracy: 0.7382 - loss: 0.5442 - val_accuracy: 0.9333 - val_loss: 0.4203\n",
      "Epoch 6/10\n",
      "\u001b[1m2/2\u001b[0m \u001b[32m━━━━━━━━━━━━━━━━━━━━\u001b[0m\u001b[37m\u001b[0m \u001b[1m0s\u001b[0m 105ms/step - accuracy: 0.6861 - loss: 0.5543 - val_accuracy: 0.9333 - val_loss: 0.3945\n",
      "Epoch 7/10\n",
      "\u001b[1m2/2\u001b[0m \u001b[32m━━━━━━━━━━━━━━━━━━━━\u001b[0m\u001b[37m\u001b[0m \u001b[1m0s\u001b[0m 108ms/step - accuracy: 0.7174 - loss: 0.5174 - val_accuracy: 0.9333 - val_loss: 0.3712\n",
      "Epoch 8/10\n",
      "\u001b[1m2/2\u001b[0m \u001b[32m━━━━━━━━━━━━━━━━━━━━\u001b[0m\u001b[37m\u001b[0m \u001b[1m0s\u001b[0m 100ms/step - accuracy: 0.7278 - loss: 0.5294 - val_accuracy: 0.9333 - val_loss: 0.3528\n",
      "Epoch 9/10\n",
      "\u001b[1m2/2\u001b[0m \u001b[32m━━━━━━━━━━━━━━━━━━━━\u001b[0m\u001b[37m\u001b[0m \u001b[1m0s\u001b[0m 96ms/step - accuracy: 0.7076 - loss: 0.5403 - val_accuracy: 0.9333 - val_loss: 0.3408\n",
      "Epoch 10/10\n",
      "\u001b[1m2/2\u001b[0m \u001b[32m━━━━━━━━━━━━━━━━━━━━\u001b[0m\u001b[37m\u001b[0m \u001b[1m0s\u001b[0m 110ms/step - accuracy: 0.7382 - loss: 0.5194 - val_accuracy: 0.9333 - val_loss: 0.3300\n",
      "\u001b[1m1/1\u001b[0m \u001b[32m━━━━━━━━━━━━━━━━━━━━\u001b[0m\u001b[37m\u001b[0m \u001b[1m0s\u001b[0m 67ms/step - accuracy: 0.9333 - loss: 0.3300\n",
      "Test accuracy: 93.33%\n"
     ]
    }
   ],
   "source": [
    "# Prepare the features and target\n",
    "X_num = df[['A', 'T', 'C', 'G', 'total_bases', 'A_ratio', 'T_ratio', 'C_ratio', 'G_ratio']]\n",
    "y = df['parE']\n",
    "\n",
    "# Normalize and vectorize\n",
    "scaler = StandardScaler()\n",
    "X_scaled = scaler.fit_transform(X_num)\n",
    "tfidf = TfidfVectorizer(analyzer='char', ngram_range=(3, 3))\n",
    "X_seq = tfidf.fit_transform(df['sequence'])\n",
    "X_scaled_sparse = sparse.csr_matrix(X_scaled)\n",
    "X_combined = sparse.hstack([X_scaled_sparse, X_seq])\n",
    "\n",
    "# Split into training and testing sets\n",
    "X_train, X_test, y_train, y_test = train_test_split(X_combined, y, test_size=0.2, random_state=42)\n",
    "\n",
    "# Build the model\n",
    "model = Sequential()\n",
    "model.add(Dense(128, input_dim=X_combined.shape[1], activation='relu'))\n",
    "model.add(Dropout(0.3))\n",
    "model.add(Dense(64, activation='relu'))\n",
    "model.add(Dropout(0.3))\n",
    "model.add(Dense(1, activation='sigmoid'))\n",
    "\n",
    "# Compile the model\n",
    "model.compile(optimizer=Adam(), loss='binary_crossentropy', metrics=['accuracy'])\n",
    "\n",
    "# Train the model\n",
    "model.fit(X_train, y_train, epochs=10, batch_size=32, validation_data=(X_test, y_test))\n",
    "\n",
    "# Evaluate\n",
    "loss, accuracy = model.evaluate(X_test, y_test)\n",
    "print(f\"Test accuracy: {accuracy * 100:.2f}%\")\n"
   ]
  },
  {
   "cell_type": "markdown",
   "id": "8e2aabde",
   "metadata": {},
   "source": [
    "43 - 0 ; 32 - 1 --> 42.67% has this gene"
   ]
  }
 ],
 "metadata": {
  "kernelspec": {
   "display_name": ".venv",
   "language": "python",
   "name": "python3"
  },
  "language_info": {
   "codemirror_mode": {
    "name": "ipython",
    "version": 3
   },
   "file_extension": ".py",
   "mimetype": "text/x-python",
   "name": "python",
   "nbconvert_exporter": "python",
   "pygments_lexer": "ipython3",
   "version": "3.12.6"
  }
 },
 "nbformat": 4,
 "nbformat_minor": 5
}
